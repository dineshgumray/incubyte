{
 "cells": [
  {
   "cell_type": "markdown",
   "metadata": {},
   "source": [
    "#### We are using below table as sample table as per given doc. the file name is hospital_data.txt with \"|\" as delimiter"
   ]
  },
  {
   "cell_type": "code",
   "execution_count": 9,
   "metadata": {
    "scrolled": true
   },
   "outputs": [
    {
     "data": {
      "text/html": [
       "<div>\n",
       "<style scoped>\n",
       "    .dataframe tbody tr th:only-of-type {\n",
       "        vertical-align: middle;\n",
       "    }\n",
       "\n",
       "    .dataframe tbody tr th {\n",
       "        vertical-align: top;\n",
       "    }\n",
       "\n",
       "    .dataframe thead th {\n",
       "        text-align: right;\n",
       "    }\n",
       "</style>\n",
       "<table border=\"1\" class=\"dataframe\">\n",
       "  <thead>\n",
       "    <tr style=\"text-align: right;\">\n",
       "      <th></th>\n",
       "      <th>Customer_Name</th>\n",
       "      <th>Customer_Id</th>\n",
       "      <th>Open_Date</th>\n",
       "      <th>Last_Consulted_Date</th>\n",
       "      <th>Vaccination_Id</th>\n",
       "      <th>Dr_Name</th>\n",
       "      <th>State</th>\n",
       "      <th>Country</th>\n",
       "      <th>DOB</th>\n",
       "      <th>Is_Active</th>\n",
       "    </tr>\n",
       "  </thead>\n",
       "  <tbody>\n",
       "    <tr>\n",
       "      <td>0</td>\n",
       "      <td>Alex</td>\n",
       "      <td>123457</td>\n",
       "      <td>20101012</td>\n",
       "      <td>20121013</td>\n",
       "      <td>MVD</td>\n",
       "      <td>Paul</td>\n",
       "      <td>SA</td>\n",
       "      <td>USA</td>\n",
       "      <td>6031987</td>\n",
       "      <td>A</td>\n",
       "    </tr>\n",
       "    <tr>\n",
       "      <td>1</td>\n",
       "      <td>John</td>\n",
       "      <td>123458</td>\n",
       "      <td>20101012</td>\n",
       "      <td>20121013</td>\n",
       "      <td>MVD</td>\n",
       "      <td>Paul</td>\n",
       "      <td>TN</td>\n",
       "      <td>IND</td>\n",
       "      <td>6031987</td>\n",
       "      <td>A</td>\n",
       "    </tr>\n",
       "    <tr>\n",
       "      <td>2</td>\n",
       "      <td>Mathew</td>\n",
       "      <td>123459</td>\n",
       "      <td>20101012</td>\n",
       "      <td>20121013</td>\n",
       "      <td>MVD</td>\n",
       "      <td>Paul</td>\n",
       "      <td>WAS</td>\n",
       "      <td>PHIL</td>\n",
       "      <td>6031987</td>\n",
       "      <td>A</td>\n",
       "    </tr>\n",
       "    <tr>\n",
       "      <td>3</td>\n",
       "      <td>Matt</td>\n",
       "      <td>12345</td>\n",
       "      <td>20101012</td>\n",
       "      <td>20121013</td>\n",
       "      <td>MVD</td>\n",
       "      <td>Paul</td>\n",
       "      <td>BOS</td>\n",
       "      <td>NYC</td>\n",
       "      <td>6031987</td>\n",
       "      <td>A</td>\n",
       "    </tr>\n",
       "    <tr>\n",
       "      <td>4</td>\n",
       "      <td>Jacob</td>\n",
       "      <td>1256</td>\n",
       "      <td>20101012</td>\n",
       "      <td>20121013</td>\n",
       "      <td>MVD</td>\n",
       "      <td>Paul</td>\n",
       "      <td>VIC</td>\n",
       "      <td>AU</td>\n",
       "      <td>6031987</td>\n",
       "      <td>A</td>\n",
       "    </tr>\n",
       "  </tbody>\n",
       "</table>\n",
       "</div>"
      ],
      "text/plain": [
       "  Customer_Name  Customer_Id  Open_Date  Last_Consulted_Date Vaccination_Id  \\\n",
       "0          Alex       123457   20101012             20121013            MVD   \n",
       "1          John       123458   20101012             20121013            MVD   \n",
       "2        Mathew       123459   20101012             20121013            MVD   \n",
       "3          Matt        12345   20101012             20121013            MVD   \n",
       "4         Jacob         1256   20101012             20121013            MVD   \n",
       "\n",
       "  Dr_Name State Country      DOB Is_Active  \n",
       "0    Paul    SA     USA  6031987         A  \n",
       "1    Paul    TN     IND  6031987         A  \n",
       "2    Paul   WAS    PHIL  6031987         A  \n",
       "3    Paul   BOS     NYC  6031987         A  \n",
       "4    Paul   VIC      AU  6031987         A  "
      ]
     },
     "execution_count": 9,
     "metadata": {},
     "output_type": "execute_result"
    }
   ],
   "source": [
    "import pandas as pd\n",
    "df = pd.read_csv(\"hospital_data.txt\",delimiter=\"|\")\n",
    "df"
   ]
  },
  {
   "cell_type": "markdown",
   "metadata": {},
   "source": [
    "#### Below code will read the hospital_data.txt file and generate output file based on country column with there respective data."
   ]
  },
  {
   "cell_type": "code",
   "execution_count": 53,
   "metadata": {},
   "outputs": [],
   "source": [
    "import pandas as pd\n",
    "\n",
    "df = pd.read_csv(\"hospital_data.txt\",delimiter=\"|\")\n",
    "#If wanted to read data from sql tables\n",
    "# df = pd.read_sql_table('hospital_data', con=engine)  \n",
    "\n",
    "# below loop will generate result_df based on Country column\n",
    "# and prepare .txt file based on different countries \n",
    "for cname in df[\"Country\"]:\n",
    "    result_df = df[df[\"Country\"] == cname]\n",
    "    result_df.to_csv(\"Table_{}.txt\".format(cname), sep=\"|\", index=False)\n",
    "    \n",
    "# If wanted to write data to sql table.\n",
    "#     result_df.to_sql(con=engine, name=\"Table_{}\".format(cname),if_exists='append',index=False)"
   ]
  }
 ],
 "metadata": {
  "kernelspec": {
   "display_name": "Python 3",
   "language": "python",
   "name": "python3"
  },
  "language_info": {
   "codemirror_mode": {
    "name": "ipython",
    "version": 3
   },
   "file_extension": ".py",
   "mimetype": "text/x-python",
   "name": "python",
   "nbconvert_exporter": "python",
   "pygments_lexer": "ipython3",
   "version": "3.7.4"
  }
 },
 "nbformat": 4,
 "nbformat_minor": 2
}
